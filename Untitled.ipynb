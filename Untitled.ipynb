{
 "cells": [
  {
   "cell_type": "code",
   "execution_count": 1,
   "metadata": {},
   "outputs": [
    {
     "name": "stdout",
     "output_type": "stream",
     "text": [
      "   index      date      mov_name start_time\n",
      "0      0  20180523  IMG_0019.MOV      00.00\n",
      "1      1  20180523  IMG_0020.MOV      00.00\n",
      "2      2  20180523  IMG_0021.MOV      00.00\n",
      "3      3  20180523  IMG_0022.MOV      00.00\n",
      "4      4  20180523  IMG_0024.MOV      00.00\n",
      "5      5  20180523  IMG_0025.MOV      00.00\n",
      "6      6  20180523  IMG_0026.MOV      00.00\n",
      "7      7  20180523  IMG_0027.MOV      00.00\n",
      "8      8  20180523  IMG_0028.MOV      00.00\n",
      "9      9  20180523  IMG_0030.MOV      00.00\n",
      "10    10  20180523  IMG_0031.MOV      00.00\n",
      "11    11  20180523  IMG_0033.MOV      00.00\n",
      "12    12  20180523  IMG_0034.MOV      00.00\n",
      "13    13  20180523  IMG_0035.MOV      00.00\n",
      "14    14  20180523  IMG_0036.MOV      00.00\n",
      "15    15  20180523  IMG_0037.MOV      00.00\n",
      "16    16  20180523  IMG_0038.MOV      00.00\n",
      "17    17  20180523  IMG_0039.MOV      00.00\n",
      "18    18  20180523  IMG_0040.MOV      00.00\n",
      "19    19  20180523  IMG_0041.MOV      00.00\n",
      "20    20  20180523  IMG_0042.MOV      00.00\n",
      "21    21  20180523  IMG_0043.MOV      00.00\n",
      "22    22  20180523  IMG_0044.MOV      00.00\n",
      "23    23  20180523  IMG_0045.MOV      00.00\n",
      "24    24  20180523  IMG_0046.MOV      00.00\n",
      "25    25  20180523  IMG_0048.MOV      00.00\n",
      "26    26  20180523  IMG_0049.MOV      00.00\n",
      "27    27  20180523  IMG_0050.MOV      00.00\n",
      "28    28  20180523  IMG_0052.MOV      00.00\n",
      "29    29  20180523  IMG_0053.MOV      00.00\n",
      "30    30  20180523  IMG_0054.MOV      00.00\n",
      "31    31  20180523  IMG_0056.MOV      00.00\n",
      "32    32  20180523  IMG_0057.MOV      00.00\n",
      "33    33  20180523  IMG_0058.MOV      00.00\n",
      "34    34  20180523  IMG_0059.MOV      00.00\n",
      "db_name:  20180523\n",
      "    level_0 index      date      mov_name start_time\n",
      "0         0     0  20180523  IMG_0019.MOV      00.00\n",
      "1         1     1  20180523  IMG_0020.MOV      00.00\n",
      "2         2     2  20180523  IMG_0021.MOV      00.00\n",
      "3         3     3  20180523  IMG_0022.MOV      00.00\n",
      "4         4     4  20180523  IMG_0024.MOV      00.00\n",
      "5         5     5  20180523  IMG_0025.MOV      00.00\n",
      "6         6     6  20180523  IMG_0026.MOV      00.00\n",
      "7         7     7  20180523  IMG_0027.MOV      00.00\n",
      "8         8     8  20180523  IMG_0028.MOV      00.00\n",
      "9         9     9  20180523  IMG_0030.MOV      00.00\n",
      "10       10    10  20180523  IMG_0031.MOV      00.00\n",
      "11       11    11  20180523  IMG_0033.MOV      00.00\n",
      "12       12    12  20180523  IMG_0034.MOV      00.00\n",
      "13       13    13  20180523  IMG_0035.MOV      00.00\n",
      "14       14    14  20180523  IMG_0036.MOV      00.00\n",
      "15       15    15  20180523  IMG_0037.MOV      00.00\n",
      "16       16    16  20180523  IMG_0038.MOV      00.00\n",
      "17       17    17  20180523  IMG_0039.MOV      00.00\n",
      "18       18    18  20180523  IMG_0040.MOV      00.00\n",
      "19       19    19  20180523  IMG_0041.MOV      00.00\n",
      "20       20    20  20180523  IMG_0042.MOV      00.00\n",
      "21       21    21  20180523  IMG_0043.MOV      00.00\n",
      "22       22    22  20180523  IMG_0044.MOV      00.00\n",
      "23       23    23  20180523  IMG_0045.MOV      00.00\n",
      "24       24    24  20180523  IMG_0046.MOV      00.00\n",
      "25       25    25  20180523  IMG_0048.MOV      00.00\n",
      "26       26    26  20180523  IMG_0049.MOV      00.00\n",
      "27       27    27  20180523  IMG_0050.MOV      00.00\n",
      "28       28    28  20180523  IMG_0052.MOV      00.00\n",
      "29       29    29  20180523  IMG_0053.MOV      00.00\n",
      "30       30    30  20180523  IMG_0054.MOV      00.00\n",
      "31       31    31  20180523  IMG_0056.MOV      00.00\n",
      "32       32    32  20180523  IMG_0057.MOV      00.00\n",
      "33       33    33  20180523  IMG_0058.MOV      00.00\n",
      "34       34    34  20180523  IMG_0059.MOV      00.00\n",
      "IMG_0019.MOV\n",
      "******************************\n",
      "h: [5, 165], s: 60, v: 90\n",
      "Counter({1: 715, 0: 5})\n",
      "ωd of 000 = 23.6667 Hz\n",
      "   index        date  sample_no      mov_name    Freq_Hz\n",
      "0      0        None        NaN          None        NaN\n",
      "1      0  2018-05-23        0.0  IMG_0019.MOV  23.666667\n",
      "Runtime = 34.0420s\n",
      "IMG_0020.MOV\n",
      "******************************\n",
      "h: [5, 165], s: 60, v: 90\n",
      "Counter({1: 720})\n",
      "ωd of 001 = 23.6667 Hz\n",
      "   index        date  sample_no      mov_name    Freq_Hz\n",
      "0      0        None        NaN          None        NaN\n",
      "1      0  2018-05-23        0.0  IMG_0019.MOV  23.666667\n",
      "2      0  2018-05-23        1.0  IMG_0020.MOV  23.666667\n",
      "Runtime = 35.0037s\n",
      "IMG_0021.MOV\n",
      "******************************\n",
      "h: [5, 165], s: 60, v: 90\n",
      "Counter({1: 720})\n",
      "ωd of 002 = 24.0000 Hz\n",
      "   index        date  sample_no      mov_name    Freq_Hz\n",
      "0      0        None        NaN          None        NaN\n",
      "1      0  2018-05-23        0.0  IMG_0019.MOV  23.666667\n",
      "2      0  2018-05-23        1.0  IMG_0020.MOV  23.666667\n",
      "3      0  2018-05-23        2.0  IMG_0021.MOV  24.000000\n",
      "Runtime = 28.5067s\n",
      "IMG_0022.MOV\n",
      "******************************\n",
      "h: [5, 165], s: 60, v: 90\n",
      "Counter({1: 719, 0: 1})\n",
      "ωd of 003 = 24.0000 Hz\n",
      "   index        date  sample_no      mov_name    Freq_Hz\n",
      "0      0        None        NaN          None        NaN\n",
      "1      0  2018-05-23        0.0  IMG_0019.MOV  23.666667\n",
      "2      0  2018-05-23        1.0  IMG_0020.MOV  23.666667\n",
      "3      0  2018-05-23        2.0  IMG_0021.MOV  24.000000\n",
      "4      0  2018-05-23        3.0  IMG_0022.MOV  24.000000\n",
      "Runtime = 35.0683s\n",
      "IMG_0024.MOV\n",
      "******************************\n",
      "h: [5, 165], s: 60, v: 90\n",
      "Counter({1: 719, 2: 1})\n",
      "ωd of 004 = 25.3333 Hz\n",
      "   index        date  sample_no      mov_name    Freq_Hz\n",
      "0      0        None        NaN          None        NaN\n",
      "1      0  2018-05-23        0.0  IMG_0019.MOV  23.666667\n",
      "2      0  2018-05-23        1.0  IMG_0020.MOV  23.666667\n",
      "3      0  2018-05-23        2.0  IMG_0021.MOV  24.000000\n",
      "4      0  2018-05-23        3.0  IMG_0022.MOV  24.000000\n",
      "5      0  2018-05-23        4.0  IMG_0024.MOV  25.333333\n",
      "Runtime = 38.0584s\n",
      "IMG_0025.MOV\n",
      "******************************\n",
      "h: [5, 165], s: 60, v: 90\n",
      "Counter({1: 701, 2: 14, 0: 4, 3: 1})\n",
      "ωd of 005 = 26.3333 Hz\n",
      "   index        date  sample_no      mov_name    Freq_Hz\n",
      "0      0        None        NaN          None        NaN\n",
      "1      0  2018-05-23        0.0  IMG_0019.MOV  23.666667\n",
      "2      0  2018-05-23        1.0  IMG_0020.MOV  23.666667\n",
      "3      0  2018-05-23        2.0  IMG_0021.MOV  24.000000\n",
      "4      0  2018-05-23        3.0  IMG_0022.MOV  24.000000\n",
      "5      0  2018-05-23        4.0  IMG_0024.MOV  25.333333\n",
      "6      0  2018-05-23        5.0  IMG_0025.MOV  26.333333\n",
      "Runtime = 35.8806s\n",
      "IMG_0026.MOV\n",
      "******************************\n",
      "h: [5, 165], s: 60, v: 90\n",
      "Counter({1: 719, 2: 1})\n",
      "ωd of 006 = 27.3333 Hz\n",
      "   index        date  sample_no      mov_name    Freq_Hz\n",
      "0      0        None        NaN          None        NaN\n",
      "1      0  2018-05-23        0.0  IMG_0019.MOV  23.666667\n",
      "2      0  2018-05-23        1.0  IMG_0020.MOV  23.666667\n",
      "3      0  2018-05-23        2.0  IMG_0021.MOV  24.000000\n",
      "4      0  2018-05-23        3.0  IMG_0022.MOV  24.000000\n",
      "5      0  2018-05-23        4.0  IMG_0024.MOV  25.333333\n",
      "6      0  2018-05-23        5.0  IMG_0025.MOV  26.333333\n",
      "7      0  2018-05-23        6.0  IMG_0026.MOV  27.333333\n",
      "Runtime = 31.3478s\n",
      "IMG_0027.MOV\n",
      "******************************\n",
      "h: [5, 165], s: 60, v: 90\n",
      "Counter({1: 706, 2: 10, 0: 3, 3: 1})\n",
      "ωd of 007 = 27.3333 Hz\n",
      "   index        date  sample_no      mov_name    Freq_Hz\n",
      "0      0        None        NaN          None        NaN\n",
      "1      0  2018-05-23        0.0  IMG_0019.MOV  23.666667\n",
      "2      0  2018-05-23        1.0  IMG_0020.MOV  23.666667\n",
      "3      0  2018-05-23        2.0  IMG_0021.MOV  24.000000\n",
      "4      0  2018-05-23        3.0  IMG_0022.MOV  24.000000\n",
      "5      0  2018-05-23        4.0  IMG_0024.MOV  25.333333\n",
      "6      0  2018-05-23        5.0  IMG_0025.MOV  26.333333\n",
      "7      0  2018-05-23        6.0  IMG_0026.MOV  27.333333\n",
      "8      0  2018-05-23        7.0  IMG_0027.MOV  27.333333\n",
      "Runtime = 30.9170s\n",
      "IMG_0028.MOV\n",
      "******************************\n",
      "h: [5, 165], s: 60, v: 90\n",
      "Counter({1: 712, 0: 5, 2: 2, 3: 1})\n",
      "ωd of 008 = 24.0000 Hz\n",
      "   index        date  sample_no      mov_name    Freq_Hz\n",
      "0      0        None        NaN          None        NaN\n",
      "1      0  2018-05-23        0.0  IMG_0019.MOV  23.666667\n",
      "2      0  2018-05-23        1.0  IMG_0020.MOV  23.666667\n",
      "3      0  2018-05-23        2.0  IMG_0021.MOV  24.000000\n",
      "4      0  2018-05-23        3.0  IMG_0022.MOV  24.000000\n",
      "5      0  2018-05-23        4.0  IMG_0024.MOV  25.333333\n",
      "6      0  2018-05-23        5.0  IMG_0025.MOV  26.333333\n",
      "7      0  2018-05-23        6.0  IMG_0026.MOV  27.333333\n",
      "8      0  2018-05-23        7.0  IMG_0027.MOV  27.333333\n",
      "9      0  2018-05-23        8.0  IMG_0028.MOV  24.000000\n",
      "Runtime = 34.6956s\n",
      "IMG_0030.MOV\n",
      "******************************\n",
      "h: [5, 165], s: 60, v: 90\n",
      "Counter({1: 556, 2: 107, 3: 48, 4: 8, 5: 1})\n"
     ]
    },
    {
     "name": "stderr",
     "output_type": "stream",
     "text": [
      "/Users/miyukinakata/.pyenv/versions/anaconda3-4.4.0/lib/python3.6/site-packages/numpy/lib/function_base.py:4033: RuntimeWarning: Invalid value encountered in median for 2 results\n",
      "  r = func(a, **kwargs)\n",
      "/Users/miyukinakata/.pyenv/versions/anaconda3-4.4.0/lib/python3.6/site-packages/numpy/lib/function_base.py:4033: RuntimeWarning: Invalid value encountered in median\n",
      "  r = func(a, **kwargs)\n",
      "/Users/miyukinakata/.pyenv/versions/anaconda3-4.4.0/lib/python3.6/site-packages/numpy/core/_methods.py:26: RuntimeWarning: invalid value encountered in reduce\n",
      "  return umr_maximum(a, axis, None, out, keepdims)\n"
     ]
    },
    {
     "name": "stdout",
     "output_type": "stream",
     "text": [
      "IMG_0031.MOV\n",
      "failed\n"
     ]
    },
    {
     "ename": "SystemExit",
     "evalue": "",
     "output_type": "error",
     "traceback": [
      "An exception has occurred, use %tb to see the full traceback.\n",
      "\u001b[0;31mSystemExit\u001b[0m\n"
     ]
    },
    {
     "name": "stderr",
     "output_type": "stream",
     "text": [
      "/Users/miyukinakata/.pyenv/versions/anaconda3-4.4.0/lib/python3.6/site-packages/IPython/core/interactiveshell.py:2971: UserWarning: To exit: use 'exit', 'quit', or Ctrl-D.\n",
      "  warn(\"To exit: use 'exit', 'quit', or Ctrl-D.\", stacklevel=1)\n"
     ]
    }
   ],
   "source": [
    "from AraVib import main\n",
    "import os\n",
    "\n",
    "os.chdir(\"/Users/miyukinakata/AraVib_git/AraVib/\")\n",
    "\n",
    "main()"
   ]
  },
  {
   "cell_type": "code",
   "execution_count": 2,
   "metadata": {},
   "outputs": [
    {
     "data": {
      "text/plain": [
       "'/Users/miyukinakata/AraVib_git/AraVib/mov/db_tmp'"
      ]
     },
     "execution_count": 2,
     "metadata": {},
     "output_type": "execute_result"
    }
   ],
   "source": [
    "os.getcwd()"
   ]
  },
  {
   "cell_type": "code",
   "execution_count": 7,
   "metadata": {},
   "outputs": [],
   "source": [
    "path = \"/Users/miyukinakata/AraVib_git/AraVib/mov/movie_tmp/\"\n",
    "path0 = \"/Users/miyukinakata/AraVib_git/AraVib/mov/frames_tmp/\""
   ]
  },
  {
   "cell_type": "code",
   "execution_count": 11,
   "metadata": {},
   "outputs": [],
   "source": [
    "from AraVib_modules import AraVib_body\n",
    "import shlex\n",
    "import subprocess"
   ]
  },
  {
   "cell_type": "code",
   "execution_count": 12,
   "metadata": {},
   "outputs": [],
   "source": [
    "def generate_code(i, df2, path, path0):\n",
    "    date = df2.loc[i,\"date\"]\n",
    "    mov_name = df2.loc[i,\"mov_name\"]\n",
    "    print(mov_name)\n",
    "    start_time = df2.loc[i,\"start_time\"]\n",
    "    str1 = \"ffmpeg -i {}/\\\"{}\\\"\".format(path, mov_name)\n",
    "    str2 = \"-ss 00:00:{} -t 00:00:03.00 -vcodec png {}/image_%03d.png\".format(start_time,path0)\n",
    "    args = str1+\" \"+str2\n",
    "    return shlex.split(args), mov_name\n",
    "\n",
    "def video_converter(args0):\n",
    "    try:\n",
    "        subprocess.check_call(args0)\n",
    "    except:\n",
    "        print(\"failed\")\n",
    "        sys.exit()"
   ]
  },
  {
   "cell_type": "code",
   "execution_count": 28,
   "metadata": {},
   "outputs": [],
   "source": [
    "mov_name = \"IMG_0030.MOV\"\n",
    "\n",
    "str1 = \"ffmpeg -i {}/\\\"{}\\\"\".format(path, mov_name)\n",
    "\n",
    "start_time = 00.00\n",
    "\n",
    "str2 = \"-ss 00:00:{} -t 00:00:03.00 -vcodec png {}/image_%03d.png\".format(start_time,path0)\n",
    "args = str1+\" \"+str2\n",
    "code_ffmpeg = shlex.split(args)"
   ]
  },
  {
   "cell_type": "code",
   "execution_count": 29,
   "metadata": {},
   "outputs": [],
   "source": [
    "video_converter(code_ffmpeg)"
   ]
  },
  {
   "cell_type": "code",
   "execution_count": 30,
   "metadata": {},
   "outputs": [],
   "source": [
    "from AraVib_modules import AraVib_img_to_vibwave"
   ]
  },
  {
   "cell_type": "code",
   "execution_count": 31,
   "metadata": {},
   "outputs": [],
   "source": [
    "fnames, img_files = AraVib_img_to_vibwave.img_bulk_read_cv2(path0)"
   ]
  },
  {
   "cell_type": "code",
   "execution_count": 36,
   "metadata": {},
   "outputs": [],
   "source": [
    "hue = [5, 165]\n",
    "saturation = 90\n",
    "value = 90\n",
    "bin_imgs = AraVib_img_to_vibwave.red_trace(fnames, img_files, h=hue, s=saturation, v=value)"
   ]
  },
  {
   "cell_type": "code",
   "execution_count": 37,
   "metadata": {},
   "outputs": [],
   "source": [
    "center_list_raw, cl_array1 = AraVib_img_to_vibwave.img_to_center(bin_imgs)"
   ]
  },
  {
   "cell_type": "code",
   "execution_count": 38,
   "metadata": {},
   "outputs": [],
   "source": [
    "center_list1 = AraVib_img_to_vibwave.nan_processing(center_list_raw)"
   ]
  },
  {
   "cell_type": "code",
   "execution_count": 39,
   "metadata": {},
   "outputs": [],
   "source": [
    "displacement_list1 = AraVib_img_to_vibwave.center_to_displacement(center_list1)"
   ]
  },
  {
   "cell_type": "code",
   "execution_count": 40,
   "metadata": {},
   "outputs": [
    {
     "data": {
      "text/plain": [
       "[<matplotlib.lines.Line2D at 0x11a9058d0>]"
      ]
     },
     "execution_count": 40,
     "metadata": {},
     "output_type": "execute_result"
    },
    {
     "data": {
      "image/png": "[encoded data removed]",
      "text/plain": [
       "<Figure size 432x288 with 1 Axes>"
      ]
     },
     "metadata": {},
     "output_type": "display_data"
    }
   ],
   "source": [
    "%matplotlib inline\n",
    "import matplotlib.pyplot as plt\n",
    "plt.plot(displacement_list1)"
   ]
  },
  {
   "cell_type": "code",
   "execution_count": 35,
   "metadata": {},
   "outputs": [
    {
     "data": {
      "text/plain": [
       "array([2, 2, 2, 2, 2, 2, 2, 2, 2, 2, 2, 2, 2, 2, 2, 2, 2, 2, 2, 2, 2, 2,\n",
       "       2, 2, 2, 2, 2, 2, 2, 2, 2, 2, 2, 2, 2, 2, 2, 2, 2, 2, 3, 3, 3, 3,\n",
       "       3, 3, 3, 3, 3, 3, 3, 3, 2, 2, 2, 3, 2, 2, 2, 2, 2, 2, 3, 2, 2, 2,\n",
       "       2, 2, 2, 2, 2, 2, 2, 2, 2, 2, 2, 2, 2, 2, 3, 3, 3, 3, 3, 3, 3, 2,\n",
       "       4, 4, 3, 4, 3, 3, 3, 4, 3, 3, 3, 3, 3, 3, 3, 2, 3, 3, 2, 2, 2, 2,\n",
       "       2, 4, 2, 2, 2, 2, 3, 3, 2, 2, 2, 3, 2, 2, 2, 2, 2, 3, 2, 3, 2, 4,\n",
       "       3, 2, 2, 3, 3, 2, 2, 2, 2, 2, 2, 2, 2, 3, 1, 3, 2, 2, 1, 2, 4, 5,\n",
       "       2, 4, 3, 3, 3, 3, 2, 2, 2, 2, 2, 2, 1, 1, 1, 1, 1, 1, 1, 1, 1, 1,\n",
       "       1, 1, 1, 1, 1, 1, 1, 1, 1, 1, 1, 1, 1, 1, 1, 1, 1, 1, 1, 1, 1, 1,\n",
       "       1, 1, 1, 1, 1, 1, 1, 1, 1, 1, 1, 1, 1, 1, 1, 1, 1, 1, 1, 1, 1, 1,\n",
       "       1, 1, 1, 1, 1, 1, 1, 1, 1, 1, 1, 1, 1, 1, 1, 1, 1, 1, 1, 1, 1, 1,\n",
       "       1, 1, 1, 1, 1, 1, 1, 1, 1, 1, 1, 1, 1, 1, 1, 1, 1, 1, 1, 1, 1, 1,\n",
       "       1, 1, 1, 1, 1, 1, 1, 1, 1, 1, 1, 1, 1, 1, 1, 1, 1, 1, 1, 1, 1, 1,\n",
       "       1, 1, 1, 1, 1, 1, 1, 1, 1, 1, 1, 1, 1, 1, 1, 1, 1, 1, 1, 1, 1, 1,\n",
       "       1, 1, 1, 1, 1, 1, 1, 1, 1, 1, 1, 1, 1, 1, 1, 1, 1, 1, 1, 1, 1, 1,\n",
       "       1, 1, 1, 1, 1, 1, 1, 1, 1, 1, 1, 1, 1, 1, 1, 1, 1, 1, 1, 1, 1, 1,\n",
       "       1, 1, 1, 1, 1, 1, 1, 1, 1, 1, 1, 1, 1, 1, 1, 1, 1, 1, 1, 1, 1, 1,\n",
       "       1, 1, 1, 1, 1, 1, 1, 1, 1, 1, 1, 1, 1, 1, 1, 1, 1, 1, 1, 1, 1, 1,\n",
       "       1, 1, 1, 1, 1, 1, 1, 1, 1, 1, 1, 1, 1, 1, 1, 1, 1, 1, 1, 1, 1, 1,\n",
       "       1, 1, 1, 1, 1, 1, 1, 1, 1, 1, 1, 1, 1, 1, 1, 1, 1, 1, 1, 1, 1, 1,\n",
       "       1, 1, 1, 1, 1, 1, 1, 1, 1, 1, 1, 1, 1, 1, 1, 1, 1, 1, 1, 1, 1, 1,\n",
       "       1, 1, 1, 1, 1, 1, 1, 1, 1, 1, 1, 1, 1, 1, 1, 1, 1, 1, 1, 1, 1, 1,\n",
       "       1, 1, 1, 1, 1, 1, 1, 1, 1, 1, 1, 1, 1, 1, 1, 1, 1, 1, 1, 1, 1, 1,\n",
       "       1, 1, 1, 1, 1, 1, 1, 1, 1, 1, 1, 1, 1, 1, 1, 1, 1, 1, 1, 1, 1, 1,\n",
       "       1, 1, 1, 1, 1, 1, 1, 1, 1, 1, 1, 1, 1, 1, 1, 1, 1, 1, 1, 1, 1, 1,\n",
       "       1, 1, 1, 1, 1, 1, 1, 1, 1, 1, 1, 1, 1, 1, 1, 1, 1, 1, 1, 1, 1, 1,\n",
       "       1, 1, 1, 1, 1, 1, 1, 1, 1, 1, 1, 1, 1, 1, 1, 1, 1, 1, 1, 1, 1, 1,\n",
       "       1, 1, 1, 1, 1, 1, 1, 1, 1, 1, 1, 1, 1, 1, 1, 1, 1, 1, 1, 1, 1, 1,\n",
       "       1, 1, 1, 1, 1, 1, 1, 1, 1, 1, 1, 1, 1, 1, 1, 1, 1, 1, 1, 1, 1, 1,\n",
       "       1, 1, 1, 1, 1, 1, 1, 1, 1, 1, 1, 1, 1, 1, 1, 1, 1, 1, 1, 1, 1, 1,\n",
       "       1, 1, 1, 1, 1, 1, 1, 1, 1, 1, 1, 1, 1, 1, 1, 1, 1, 1, 1, 1, 1, 1,\n",
       "       1, 1, 1, 1, 1, 1, 1, 1, 1, 1, 1, 1, 1, 1, 1, 1, 1, 1, 1, 1, 1, 1,\n",
       "       1, 1, 1, 1, 1, 1, 1, 1, 1, 1, 1, 1, 1, 1, 1, 1])"
      ]
     },
     "execution_count": 35,
     "metadata": {},
     "output_type": "execute_result"
    }
   ],
   "source": [
    "cl_array1"
   ]
  },
  {
   "cell_type": "code",
   "execution_count": null,
   "metadata": {},
   "outputs": [],
   "source": []
  }
 ],
 "metadata": {
  "kernelspec": {
   "display_name": "Python 3",
   "language": "python",
   "name": "python3"
  },
  "language_info": {
   "codemirror_mode": {
    "name": "ipython",
    "version": 3
   },
   "file_extension": ".py",
   "mimetype": "text/x-python",
   "name": "python",
   "nbconvert_exporter": "python",
   "pygments_lexer": "ipython3",
   "version": "3.6.5"
  }
 },
 "nbformat": 4,
 "nbformat_minor": 2
}
