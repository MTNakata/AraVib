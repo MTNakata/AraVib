{
 "cells": [
  {
   "cell_type": "code",
   "execution_count": 16,
   "metadata": {},
   "outputs": [
    {
     "data": {
      "text/plain": [
       "['.ipynb_checkpoints',\n",
       " 'AraVibS_def.py',\n",
       " 'AraVib_FFT.py',\n",
       " 'AraVib_body.py',\n",
       " 'AraVib_img_to_vibwave.py',\n",
       " 'AraVib_video_convert.py',\n",
       " 'Untitled.ipynb']"
      ]
     },
     "execution_count": 16,
     "metadata": {},
     "output_type": "execute_result"
    }
   ],
   "source": [
    "import cv2\n",
    "import os\n",
    "\n",
    "sorted(os.listdir())"
   ]
  },
  {
   "cell_type": "code",
   "execution_count": 10,
   "metadata": {},
   "outputs": [
    {
     "data": {
      "text/plain": [
       "['AraVibS_def.py',\n",
       " 'Untitled.ipynb',\n",
       " 'AraVib_FFT.py',\n",
       " 'AraVib_video_convert.py',\n",
       " 'AraVib_img_to_vibwave.py',\n",
       " '.ipynb_checkpoints',\n",
       " 'AraVib_body.py']"
      ]
     },
     "execution_count": 10,
     "metadata": {},
     "output_type": "execute_result"
    }
   ],
   "source": []
  },
  {
   "cell_type": "code",
   "execution_count": null,
   "metadata": {},
   "outputs": [],
   "source": [
    "def img_bulk_read_cv2(path,format=\".png\"):\n",
    "    os.chdir(path)\n",
    "    all_files = os.listdir(path)\n",
    "    file_names = [i for i in all_files if i.endswith(format)]\n",
    "    png_files = [cv2.imread(i) for i in file_names]\n",
    "    return file_names, png_files"
   ]
  }
 ],
 "metadata": {
  "kernelspec": {
   "display_name": "Python 3",
   "language": "python",
   "name": "python3"
  },
  "language_info": {
   "codemirror_mode": {
    "name": "ipython",
    "version": 3
   },
   "file_extension": ".py",
   "mimetype": "text/x-python",
   "name": "python",
   "nbconvert_exporter": "python",
   "pygments_lexer": "ipython3",
   "version": "3.6.5"
  }
 },
 "nbformat": 4,
 "nbformat_minor": 2
}
